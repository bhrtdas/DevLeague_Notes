{
 "cells": [
  {
   "cell_type": "markdown",
   "metadata": {},
   "source": [
    "## Programming Language One-pager\n",
    "\n",
    "Most computer programs are written in a higher-level language (i.e. Python or Java) that is easier for humans to understand, but a CPU can only understand machine code (0's and 1's). So, compilers and interpreters are used to translate the higher-level languages into successively lower-level languages, eventually converting the original source code into a machine code that the computer can understand.  \n",
    "\n",
    "Python is predominantly an interpreted language, meaning an interpreter directly converts python into machine code to speak to the CPU. The interpreter contains pre-translated machine code for python commands. To execute a script, the interpreter goes line by line, reaching into it's library to obtain the equivalent machine code for each command that it reads and then sending the code to the hardware.  \n",
    "\n",
    "C is a compiled language. Compilers translate C programs into very-low level languages, like assembly, and these low-level translations of the program are stored in memory. A single line of code in a low-level language has a close relationship to the actual machine code used by the CPU; one line in assembly may translate to just 1, or 2 lines of machine code. As a result, processes controlled by compiled languages are considered efficient at using processing power and may take less time to complete. \n",
    "\n",
    "The low-level languages are also architecture specific. Different CPU have different memory, cache and bus configurations that lead to idosyncracies in the way data is stored, retrieved and processed. All of this affects the machine code. \n",
    "\n",
    "Higher-level languages often work across many different architectures. This is due to the fact that compilers and interpreters can run beneath the language and translate commands into the appropriate machine code for the given hardware. The evolution of this language heirarchy has fueled the constant expansion of human-computer capabilities, because it allows humans to build systems on top of the prior systems that came before them. For example, Python and Java are programming languages which are based on C language. The creators of Python and Java were able to utilize the compilers for C which had already been created, thus freeing them from the need to write assembly and machine code for many of the different libraries they were inventing.    \n"
   ]
  }
 ],
 "metadata": {
  "kernelspec": {
   "display_name": "Python 3",
   "language": "python",
   "name": "python3"
  },
  "language_info": {
   "codemirror_mode": {
    "name": "ipython",
    "version": 3
   },
   "file_extension": ".py",
   "mimetype": "text/x-python",
   "name": "python",
   "nbconvert_exporter": "python",
   "pygments_lexer": "ipython3",
   "version": "3.6.3"
  }
 },
 "nbformat": 4,
 "nbformat_minor": 2
}
