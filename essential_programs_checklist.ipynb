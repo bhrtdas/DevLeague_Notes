{
 "cells": [
  {
   "cell_type": "markdown",
   "metadata": {},
   "source": [
    "## Baseline Programs for a New OS\n",
    "\n",
    "Here is a checklist I use to load my essential programs on a new OS: \n",
    "\n",
    "- [] Chrome\n",
    "- [] Anaconda\n",
    "- [] Pycharm\n",
    "- [] GitBash\n",
    "- [] NordVPN\n",
    "- [] Tor \n",
    "- [] .iso\n",
    "   - [] Windows 10\n",
    "   - [] Windows 8\n",
    "   - [] Windows 7\n",
    "   - [] Ubuntu 16.04\n",
    "   - [] Ubuntu Server\n",
    "   - [] Kali Linux\n",
    "- [] Virtual Box\n",
    "- [] LastPass\n",
    "- [] Slack"
   ]
  }
 ],
 "metadata": {
  "kernelspec": {
   "display_name": "Python 3",
   "language": "python",
   "name": "python3"
  },
  "language_info": {
   "codemirror_mode": {
    "name": "ipython",
    "version": 3
   },
   "file_extension": ".py",
   "mimetype": "text/x-python",
   "name": "python",
   "nbconvert_exporter": "python",
   "pygments_lexer": "ipython3",
   "version": "3.6.3"
  }
 },
 "nbformat": 4,
 "nbformat_minor": 2
}
