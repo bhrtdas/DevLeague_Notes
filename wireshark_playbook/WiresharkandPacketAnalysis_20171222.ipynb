{
 "cells": [
  {
   "cell_type": "markdown",
   "metadata": {},
   "source": [
    "### Why Wireshark?"
   ]
  },
  {
   "cell_type": "markdown",
   "metadata": {},
   "source": [
    "If you're pentesting, then here's the big picture: \n",
    "\n",
    "#### You are using wireshark to conduct passive surveillance of a target.\n",
    "\n",
    "You want data that will: a) allow you to map the network, and b) impersonate devices on the network. \n",
    "\n",
    "#### Refuse to pay attention to any data that doesn't move you closer to accomplishing this."
   ]
  },
  {
   "cell_type": "markdown",
   "metadata": {},
   "source": [
    "#### Don't steal content with Wireshark.\n",
    "\n",
    "There are better tools for that. One of my first mistakes was trying to use wireshark to find that smoking gun email, or the dirty jpgs being downloaded. Sometimes you find that stuff, but you're getting lucky. It won't be a treasure trove. Wireshark captures a snapshot in time. You would have to be capturing as the gun was going off, or at least still smoking. \n",
    "\n",
    "For wireshark the gold is in the standardized information contained in the protocols which allow you to piece together a common operational picture. Once Wireshark has taught you the network paths, operating environment and the actors within it, then use other tools to break in and grab the motherload.  \n",
    "\n",
    "NOTE HERE: I will skip the standard, but not to be understated disclaimer that you have been given explicit prior authorization to break into the target system, because that goes without saying. "
   ]
  },
  {
   "cell_type": "markdown",
   "metadata": {},
   "source": [
    "#### Have a narrow capture objective.\n",
    "If human intel operations can have very specific objectives, so can yours. A common operating picture is often painstakingly pieced together through multiple operations, involving several different targets, and serious amounts of time and resources. \n",
    "\n",
    "Allow the same to be true for your collection operations. Decide specifically what you want to look for before you click capture. It pays to know what you want to find and have a plan for how you will find the first frame. Start the capture and when you find what you're looking for, isolate it and filter out other data. Once you've gathered that data, you can always save to file and run another capture to find your next piece of data. Piece it all together with precision and patience. \n",
    "\n",
    "#### Keep it Stupid, Stupid\n",
    "\n",
    "Wireshark gathers so much information that data you might find valuable is lost in noise. If you are learning, like I am, you'll get overwhelmed. \n",
    "\n",
    "I try to get fancy and it never works. Keep it simple, stupid. \n",
    "\n",
    "#### Target intel at each layer of the TCP/IP model\n",
    "\n",
    "Assembling the most valuable information from protocol at each layer of the OSI model is my current strategy for building a common operating picture of a network. I start at the lowest layer available through Wireshark - the data link layer, and work my way up.\n",
    "\n",
    "Below are some maneuvers you can use with wireshark at each layer of TCP/IP."
   ]
  },
  {
   "cell_type": "markdown",
   "metadata": {},
   "source": [
    "#### Data link layer\n",
    "\n",
    "Get the MAC addresses of target devices. \n",
    "Wireless routers issue requests \n",
    "Use 'arp' in the filter menu. You only need to inspect two data frames to find the MAC address of the router and a device on the network. I could choose any one of these frame pairs, starting with 128 and 129.  \n",
    "\n",
    "![arp filter](./photos/ARPfilter.png)\n",
    "\n",
    "Notice in frame 128 that the router is requesting the MAC address of the device with IP 192.168.0.180, using Address Resolution Protocol, or ARP (we have a good guess this is the router's request, because the IP address is 1st host ip in the subnet). \n",
    "\n",
    "![arp filter](./photos/arprequestfromrouter.png)\n",
    "\n",
    "In frame 129, the device IP 192.168.0.180 replies. Notice the Sender MAC Address is now filled in with the MAC address of the device. \n",
    "\n",
    "![arp filter](./photos/macaddressresolution.png)\n"
   ]
  },
  {
   "cell_type": "markdown",
   "metadata": {
    "collapsed": true
   },
   "source": [
    "#### Internet Layer\n",
    "Click on View and make sure Packet Details window is turned on (checked). \n",
    "Highlight a packet in the filter window, then open the Internet Protocol layer in the Packet Details window. You'll be able to see the Source of the packet. \n",
    "Right click on the source and choose \"Apply as filter\". \n",
    "\n",
    "In the screenshot below, Source: Slack.com has been applied as a filter. This shows the types of protocols (HTTPS) and the destination port, or range of ports for HTTPS being used to communicate with slack.com on the device. \n",
    "\n",
    "![Apply Source as Filter](./photos/sourceslackcom_applyasfilter.png)\n"
   ]
  },
  {
   "cell_type": "markdown",
   "metadata": {},
   "source": [
    "#### TCP/UDP Layer\n",
    "Click on a packet in the filter window, then open the Transmission Control Protocol section of the Packet Details window. Right click on Source Port and choose Apply as Column. \n",
    "Right click on Destination Port and choose Apply as Column, also. \n",
    "\n",
    "Use tcp as a filter, then click on the info column header to sort the results by info. \n",
    "Now, you should be able to scroll and see which sources are establishing sessions, which sources are sending application data, etc., and you will also be able to see which ports/port ranges these connections are being established on (See below).\n",
    "\n",
    "![New Session Ticket](./photos/newhttpssession.png)\n"
   ]
  },
  {
   "cell_type": "markdown",
   "metadata": {},
   "source": [
    "#### Application Layer\n",
    "Use dns filter to identify which websites a host is navigating to. The ip of the requesting device will be in source column and the domain name or ip of the DNS server will be in the destination. \n",
    "The website, or domain name of the website being navigated to will be display in the info column. \n",
    "\n",
    "You can filter by source, as well. This will allow you to work through hosts, one by one, and establish website traffic patterns for different hosts. "
   ]
  },
  {
   "cell_type": "markdown",
   "metadata": {},
   "source": [
    "Use http == \"Get\" to view http protocol captures and get requests.  \n",
    "Under the Protocol Details window, in the Hypertext Transfer Protocol, right click on the GET line and choose Show Packet Bytes... \n",
    "Sometimes, if users have downloaded images, etc. over unencrypted protocol you will be able to view what they downloaded. "
   ]
  }
 ],
 "metadata": {
  "kernelspec": {
   "display_name": "Python 3",
   "language": "python",
   "name": "python3"
  },
  "language_info": {
   "codemirror_mode": {
    "name": "ipython",
    "version": 3
   },
   "file_extension": ".py",
   "mimetype": "text/x-python",
   "name": "python",
   "nbconvert_exporter": "python",
   "pygments_lexer": "ipython3",
   "version": "3.6.3"
  }
 },
 "nbformat": 4,
 "nbformat_minor": 2
}
