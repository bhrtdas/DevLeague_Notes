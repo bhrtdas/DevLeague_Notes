{
 "cells": [
  {
   "cell_type": "markdown",
   "metadata": {},
   "source": [
    "### OS Host Machine Hygiene and Blue Forensic Plays"
   ]
  },
  {
   "cell_type": "markdown",
   "metadata": {},
   "source": [
    "Lots of malicious software will configure itself to run automatically at start up. This batch script is designed to show applications that will run automatically when the user starts there windows machine. The output is written to a file in %userprofile$\\Documents.  "
   ]
  },
  {
   "cell_type": "code",
   "execution_count": null,
   "metadata": {
    "collapsed": true
   },
   "outputs": [],
   "source": [
    "SET filepath=%userprofile%\\Documents\\startup_programs_%username%_%DATE:~10,4%_%DATE:~4,2%_%DATE:~7,2%_%TIME:~0,2%_%TIME:~3,2%_%TIME:~6,2%.txt\n",
    "\n",
    "CALL get_startup_progs\n",
    "\n",
    "EXIT /b 0\n",
    "\n",
    ":get_startup_progs\n",
    "echo --- Start Up Programs --- >> %filepath%\n",
    "echo Current User >> %filepath%\n",
    "echo. >> %filepath%\n",
    "dir C:\\Users\\globa\\AppData\\Roaming >> %filepath%\n",
    "echo. >> %filepath%\n",
    "echo. >> %filepath%\n",
    "echo All Users >> %filepath%\n",
    "echo. >> %filepath%\n",
    "dir C:\\ProgramData\\Microsoft\\Windows\\Start Menu\\Programs\\Startup >> %filepath%\n",
    "echo. >> %filepath%\n",
    "echo. >> %filepath%\n",
    "echo. >> %filepath%\n",
    "EXIT /b 0"
   ]
  },
  {
   "cell_type": "markdown",
   "metadata": {},
   "source": [
    "Other malicious software may be configured to autorun through the registry. Use these command lines in Windows Command Prompt to view portions of the registry that hold autorun settings (Note: you may need to right click on Command Prompt in the Start Menu and choose \"run as Administrator\" in order to access these portions of the registry) "
   ]
  },
  {
   "cell_type": "code",
   "execution_count": null,
   "metadata": {
    "collapsed": true
   },
   "outputs": [],
   "source": [
    "reg query HKLM\\Software\\Microsoft\\Windows\\CurrentVersion\\Runonce\n",
    "\n",
    "reg query HKLM\\Software\\Microsoft\\Windows\\CurrentVersion\\Run\n",
    "\n",
    "reg query HKCU\\Software\\Microsoft\\Windows NT\\CurrentVersion\\Windows\\Run\n",
    "\n",
    "reg query HKCU\\Software\\Microsoft\\Windows\\CurrentVersion\\Run \n",
    "\n",
    "reg query HKCU\\Software\\Microsoft\\Windows\\CurrentVersion\\RunOnce"
   ]
  },
  {
   "cell_type": "markdown",
   "metadata": {},
   "source": [
    "If someone was in the computer, what did they do? Check the most recently used (MRU) commands portion of the registry (Windows OS): "
   ]
  },
  {
   "cell_type": "code",
   "execution_count": null,
   "metadata": {
    "collapsed": true
   },
   "outputs": [],
   "source": [
    "reg query HKCU\\SOftware\\Microsoft\\WIndows\\CurrentVersion\\Explorer\\RunMRU"
   ]
  },
  {
   "cell_type": "markdown",
   "metadata": {},
   "source": [
    "Windows 10 has MRU logging off by default. This doesn't help forensics in the aftermath of a break-in. SysAdmin can enable MRU logging as a group policy, or it can be enabled on an individuals computer. \n",
    "\n",
    "To toggle MRU on from the Start Menu choose Settings-> Personalization-> Show most used apps \n",
    "\n",
    "[Here is a good link](https://www.askvg.com/bug-fix-run-mru-history-list-is-always-empty-in-windows-10/) to show how MRU can be toggled on/off several different ways."
   ]
  },
  {
   "cell_type": "markdown",
   "metadata": {},
   "source": [
    "### Software Security"
   ]
  },
  {
   "cell_type": "markdown",
   "metadata": {},
   "source": [
    "Check the MD5 or SHA (SHA256 is prefferred) of each program you download to verify authenticity. This isn't always possible, because not all developers make these hashes available, but take advantage of them when they're available. \n",
    "\n",
    "In bash:"
   ]
  },
  {
   "cell_type": "code",
   "execution_count": null,
   "metadata": {
    "collapsed": true
   },
   "outputs": [],
   "source": [
    "MD5sum [filepath]\n",
    "SHA256sum"
   ]
  },
  {
   "cell_type": "markdown",
   "metadata": {},
   "source": [
    "In Windows Command Prompt:"
   ]
  },
  {
   "cell_type": "code",
   "execution_count": null,
   "metadata": {
    "collapsed": true
   },
   "outputs": [],
   "source": [
    "CertUtil -hashfile [filepath] [algorithm (i.e. MD5, SHA256, etc.)]"
   ]
  },
  {
   "cell_type": "markdown",
   "metadata": {},
   "source": [
    "Alternatively, [Sandoxie](https://www.sandboxie.com/) is a program that can be used to open programs from unknown developers. Sandboxie isolates the program from the operating system until it can be verified as safe, preventing the program from making configurations, settings changes and installations if it's malicious."
   ]
  }
 ],
 "metadata": {
  "kernelspec": {
   "display_name": "Python 3",
   "language": "python",
   "name": "python3"
  },
  "language_info": {
   "codemirror_mode": {
    "name": "ipython",
    "version": 3
   },
   "file_extension": ".py",
   "mimetype": "text/x-python",
   "name": "python",
   "nbconvert_exporter": "python",
   "pygments_lexer": "ipython3",
   "version": "3.6.3"
  }
 },
 "nbformat": 4,
 "nbformat_minor": 2
}
