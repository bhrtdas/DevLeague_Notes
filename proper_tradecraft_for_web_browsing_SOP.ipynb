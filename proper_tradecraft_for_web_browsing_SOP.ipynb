{
 "cells": [
  {
   "cell_type": "markdown",
   "metadata": {},
   "source": [
    "### Proper Tradecraft for Safe, Anonymous Webrowsing"
   ]
  },
  {
   "cell_type": "markdown",
   "metadata": {},
   "source": [
    "If it's free, then you're the product.\n",
    "    - Savvy hackers everywhere\n",
    "\n",
    "Don't transmit your credit card information, or log onto financial websites using public wifi unless you're using a VPN service. [NordVPN](https://nordvpn.com/)is an affordable VPN service that encrypts your traffic over public networks and promises not to keep logs. \n",
    "\n",
    "Cookies aren't the kind your mother used to bake. Cookies are used to track, analyze and profit from your private data. Web browsers don't recommend disabling cookies because, unfortunately, they are also useful to certain well meaning websites, companies, and webextenstions. One way around this is by disabling cookies, but allowing them for certain trusted sites by creating an exceptions list. This can be done easily in Chrome. Web extensions, like [Ghostery](www.ghostery.com) will help you catch sites as they try to track you and shut them down, although you should only trust chrome extensions so far. \n",
    "\n",
    "Separate your main supply of cash from the internet. You can do this by getting a cash card and purchasing gift cards from places that you are a return shopper, like Amazon, REI, etc. If you want to really distance yourself, you could use a cash card to purchase bitcoin, then purchase the gift cards using the bitcoin. These techniques don't just separate your main pots of gold from the web, if you handle the purchase correctly they have the added benefit of not being attributed to your name.   \n",
    "\n",
    "Anonymous web browsing is a real hassle when it comes to social media and day-to-day browsing. In fact, onion routers, like [Tor](torproject.org) ruin the experience and are not necessary for a lot of what we do on the internet. The delay and poor search engine optimization that comes with Tor and using anonymous web browsers, like [DuckDuckGo] mean it's not realistic to expect that you will honor good tradecraft on your computer at all times.  So use a different machine! \n",
    "\n",
    "Bifurcate your browsing: use a different computer for financial transactions like online banking and online shopping than you do for your social networking, reading the news, and other activities where you do not, necessarily mind being tracked. Create separate email accounts, usernames and passwords for the sites that you'll go to on this computer and use a burner phone for two-factor authentication. You get added style points if you where a disguise when you go to purchase the burner phone ;) You can also use the secure machine to research and read about topics that you don't want others to see, and you can install software, like [keybase](keybase.io), that will give you encrypted communications. \n",
    "\n",
    "This is a bit technical, but sometimes this can't be avoided; wireless routers often arrive with multiple default admin accounts enabled. Make sure to disable all of these accounts, except for one (which you'll use to configure the router) and change the password on that admin account from the default password. \n",
    "\n",
    "Also, if you are simply running wifi through "
   ]
  }
 ],
 "metadata": {
  "kernelspec": {
   "display_name": "Python 3",
   "language": "python",
   "name": "python3"
  },
  "language_info": {
   "codemirror_mode": {
    "name": "ipython",
    "version": 3
   },
   "file_extension": ".py",
   "mimetype": "text/x-python",
   "name": "python",
   "nbconvert_exporter": "python",
   "pygments_lexer": "ipython3",
   "version": "3.6.3"
  }
 },
 "nbformat": 4,
 "nbformat_minor": 2
}
