{
 "cells": [
  {
   "cell_type": "markdown",
   "metadata": {},
   "source": [
    "## Get over your fear of committment and learn to push product onto GitHub\n",
    "\n",
    "The following is a procedure to set up jupyter notebook and establish a Github repository so you can promote your creations and collaborate with others on projects. \n",
    "\n",
    "The procedure is for users working from an Ubuntu 16.04 operating system with either Chrome or Firefox web browser installed. "
   ]
  },
  {
   "cell_type": "markdown",
   "metadata": {},
   "source": [
    "### 1. Download Anaconda\n",
    "\n",
    "The download is available here: https://www.anaconda.com/download/#linux\n",
    "\n",
    "Anaconda is a scientific Python distribution which contains jupyter notebook. Jupyter notebook is an application which allows you to create documents that contain both rich-text and executable code in a web browser. "
   ]
  },
  {
   "cell_type": "markdown",
   "metadata": {},
   "source": [
    "### 2. Choose the file directory that you want to become your github repository. \n",
    "\n",
    "Github is used for projects and collaboration, so you'll want the repository to be the project folder where the products you are creating for the project are stored. \n",
    "\n",
    "In this case we will use the directory Documents/MyFirstGitProject"
   ]
  },
  {
   "cell_type": "markdown",
   "metadata": {},
   "source": [
    "### 3. Open a terminal window\n",
    "\n",
    "Navigate to the file directory that you want to be your repository and then open jupyter notebook: "
   ]
  },
  {
   "cell_type": "code",
   "execution_count": null,
   "metadata": {
    "collapsed": true
   },
   "outputs": [],
   "source": [
    "cd Documents/MyFirstGitProject\n",
    "jupyter notebook"
   ]
  },
  {
   "attachments": {},
   "cell_type": "markdown",
   "metadata": {},
   "source": [
    "A web browser will open and you'll notice the jupyer notebook has opened to the MyFirstGitProject directory. \n",
    "\n",
    "Click on New in the upper right hand corner and create a Python 3 notebook. Name the document ProjectComponent1.\n"
   ]
  },
  {
   "cell_type": "markdown",
   "metadata": {},
   "source": [
    "### 4. Create the github repository\n",
    "\n",
    "Now that you've created a space on your "
   ]
  }
 ],
 "metadata": {
  "kernelspec": {
   "display_name": "Python 3",
   "language": "python",
   "name": "python3"
  },
  "language_info": {
   "codemirror_mode": {
    "name": "ipython",
    "version": 3
   },
   "file_extension": ".py",
   "mimetype": "text/x-python",
   "name": "python",
   "nbconvert_exporter": "python",
   "pygments_lexer": "ipython3",
   "version": "3.6.3"
  }
 },
 "nbformat": 4,
 "nbformat_minor": 2
}
